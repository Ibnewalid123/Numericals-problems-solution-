{
  "nbformat": 4,
  "nbformat_minor": 0,
  "metadata": {
    "colab": {
      "provenance": [],
      "gpuType": "T4"
    },
    "kernelspec": {
      "name": "python3",
      "display_name": "Python 3"
    },
    "language_info": {
      "name": "python"
    },
    "accelerator": "GPU"
  },
  "cells": [
    {
      "cell_type": "code",
      "execution_count": 1,
      "metadata": {
        "id": "95GbVtplUpPg"
      },
      "outputs": [],
      "source": [
        "import numpy as np\n",
        "import matplotlib.pyplot as plt\n",
        "import scipy as sp"
      ]
    },
    {
      "cell_type": "code",
      "source": [
        "#creating mesh\n",
        "x=30\n",
        "y=x/3\n",
        "\n",
        "#number of mesh in x direction\n",
        "N=90\n",
        "time=10#sec\n",
        "q=10         #heat source\n",
        "k_f=1        #thermal_conductivity_fuel\n",
        "rho=0.1\n",
        "Cp=0.56\n",
        "dt=0.01\n",
        "\n",
        "\n",
        "#BCs\n",
        "T_left=18\n",
        "T_right=18\n",
        "T_up=18\n",
        "T_down=150\n",
        "\n",
        "dx=x/N\n",
        "dy=dx\n",
        "\n",
        "x_pos=np.arange(0,x,dx)\n",
        "y_pos=np.arange(0,y,dy)\n",
        "t=np.arange(0,time,dt)"
      ],
      "metadata": {
        "id": "6h27dIlKUxvm"
      },
      "execution_count": 2,
      "outputs": []
    },
    {
      "cell_type": "code",
      "source": [
        "Nx=N               #number of mesh in x direction\n",
        "Ny=len(y_pos)      #number of mesh in y direction\n",
        "N_time=len(t)   #number of time step\n",
        "\n",
        "Temp=np.ones((Nx+1,Ny+1,N_time+2))*15 #T(x,y,t)\n",
        "Temp[0,:,:]=T_left\n",
        "Temp[-1,:,:]=T_right\n",
        "Temp[:,0,:]=T_down\n",
        "Temp[:,-1,:]=T_up"
      ],
      "metadata": {
        "id": "ziqV3SF2VVZw"
      },
      "execution_count": 3,
      "outputs": []
    },
    {
      "cell_type": "markdown",
      "source": [
        "\n",
        "the main equation in 2D is $$\\rho \\frac{C_p}{k} \\frac{dT}{dt}=\\frac{d^2T}{dx^2}+\\frac{d^2T}{dy^2}+\\frac{q}{k}$$\n",
        "after discretization the equation becomes $$\\rho \\frac{C_p}{k}\\frac{(T^{n+1}_{i,j}-T^n_{i,j})}{Δt}=\\frac{T^n_{i+1,j}-2T^n_{i,j}+T^n_{i-1,j}}{Δx^2}+\\frac{T^n_{i,j+1}-2T^n_{i,j}+T^n_{i,j-1}}{Δy^2}+\\frac{q}{k}$$\n",
        "\n",
        "or\n",
        "\n",
        "$$T^{n+1}_{i,j}=\\frac{kΔt}{ρC_p}(\\frac{T^n_{i+1,j}-2T^n_{i,j}+T^n_{i-1,j}}{Δx^2}+\\frac{T^n_{i,j+1}-2T^n_{i,j}+T^n_{i,j-1}}{Δy^2}+\\frac{q}{k})+T^{n}_{i,j}$$\n",
        "\n",
        "according to the problem $\\frac{k}{ρC_p}=1 $ and no heat generation so $\\frac{q}{k}=0$ and it reduces to :\n",
        "$$T^{n+1}_{i,j}=(\\frac{T^n_{i+1,j}-2T^n_{i,j}+T^n_{i-1,j}}{Δx^2}+\\frac{T^n_{i,j+1}-2T^n_{i,j}+T^n_{i,j-1}}{Δy^2})Δt+T^{n}_{i,j}$$\n",
        "$$BCs:$$\n",
        "$$T(0,y,t)=T(3b,y,t)=18°C$$\n",
        "$$T(x,0,t)=150°C$$$$T(x,b,t)=18°C$$\n"
      ],
      "metadata": {
        "id": "ItEMV6pIZ1z6"
      }
    },
    {
      "cell_type": "code",
      "source": [
        "for time_step in range (N_time+1):\n",
        "  for i in range (1,Nx):\n",
        "    for j in range (1,Ny):\n",
        "      Temp[i,j,time_step+1]=Temp[i,j,time_step]+(dt*(Temp[i+1,j,time_step]-4*Temp[i,j,time_step]+Temp[i-1,j,time_step]+Temp[i,j+1,time_step]+Temp[i,j-1,time_step]))/dx**2\n",
        "      #print((Temp[i,j,time_step+1]-Temp[i,j,time_step])/dt)"
      ],
      "metadata": {
        "id": "4qKhkPciYB9a"
      },
      "execution_count": 4,
      "outputs": []
    },
    {
      "cell_type": "code",
      "source": [
        "plt.imshow(Temp[:,:,-1].T,cmap='hot')\n",
        "plt.colorbar()\n",
        "plt.show()"
      ],
      "metadata": {
        "id": "oAS5VMWzqo0O",
        "colab": {
          "base_uri": "https://localhost:8080/",
          "height": 409
        },
        "outputId": "eb6f3216-5ed6-45f6-f61c-21c629e39ad8"
      },
      "execution_count": 5,
      "outputs": [
        {
          "output_type": "display_data",
          "data": {
            "text/plain": [
              "<Figure size 640x480 with 2 Axes>"
            ],
            "image/png": "[encoded data removed]"
          },
          "metadata": {}
        }
      ]
    },
    {
      "cell_type": "code",
      "source": [],
      "metadata": {
        "id": "Opxn2QuxQ8PO"
      },
      "execution_count": 5,
      "outputs": []
    }
  ]
}