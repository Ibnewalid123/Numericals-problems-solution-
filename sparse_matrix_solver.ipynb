{
  "cells": [
    {
      "cell_type": "code",
      "execution_count": 2,
      "metadata": {
        "colab": {
          "base_uri": "https://localhost:8080/"
        },
        "id": "owvA2EQgPYFa",
        "outputId": "cc2de8f7-a23d-4814-adaa-9154a03be3f0"
      },
      "outputs": [
        {
          "data": {
            "text/plain": [
              "array([[20.,  3.,  0., ...,  0.,  0.,  0.],\n",
              "       [ 5., 20.,  3., ...,  0.,  0.,  0.],\n",
              "       [ 0.,  5., 20., ...,  0.,  0.,  0.],\n",
              "       ...,\n",
              "       [ 0.,  0.,  0., ..., 20.,  3.,  0.],\n",
              "       [ 0.,  0.,  0., ...,  5., 20.,  3.],\n",
              "       [ 0.,  0.,  0., ...,  0.,  5., 20.]])"
            ]
          },
          "execution_count": 2,
          "metadata": {},
          "output_type": "execute_result"
        }
      ],
      "source": [
        "import numpy as np\n",
        "import timeit\n",
        "dim=10000\n",
        "matrix=np.eye(dim,k=0)*-20+np.eye(dim,k=1)*3+np.eye(dim,k=-1)*5\n",
        "\n",
        "matrix"
      ]
    },
    {
      "cell_type": "code",
      "execution_count": 3,
      "metadata": {
        "id": "vVLGb3LyPj3u"
      },
      "outputs": [],
      "source": [
        "def sparse_converter(matrix):\n",
        "  m,n=np.shape(matrix)\n",
        "  row=[]\n",
        "  col=[]\n",
        "  val=[]\n",
        "  for i in range(m):\n",
        "    for j in range(n):\n",
        "      if matrix[i][j]!=0:\n",
        "        row.append(i)\n",
        "        col.append(j)\n",
        "        val.append(matrix[i][j])\n",
        "  return row,col,val"
      ]
    },
    {
      "cell_type": "code",
      "execution_count": 4,
      "metadata": {
        "id": "o2VdVr5XQywx"
      },
      "outputs": [],
      "source": [
        "row,col,val=sparse_converter(matrix)\n",
        "new_matrix=np.column_stack((row,col,val))\n"
      ]
    },
    {
      "cell_type": "code",
      "execution_count": 12,
      "metadata": {
        "colab": {
          "base_uri": "https://localhost:8080/"
        },
        "id": "t3x_j8ZtQ4r3",
        "outputId": "fd86e47f-5802-4ca8-ede5-3e507150ac34"
      },
      "outputs": [
        {
          "name": "stdout",
          "output_type": "stream",
          "text": [
            "0.7826106296487202\n",
            "0.45561517280932856\n",
            "0.15414443080302787\n",
            "0.06570541769700171\n",
            "0.025608024491297024\n",
            "0.010348753779575273\n",
            "0.004122286886871746\n",
            "0.001651573711522955\n",
            "0.0006601713533068589\n",
            "0.00026412893117845143\n",
            "0.00010563708742176737\n",
            "4.225522327675969e-05\n",
            "1.6901293204866195e-05\n",
            "6.7603506462541315e-06\n",
            "2.7040537884974503e-06\n",
            "1.0815900166483414e-06\n",
            "4.326234686224785e-07\n",
            "1.73044359245571e-07\n",
            "6.921580628374395e-08\n",
            "2.7685534601521147e-08\n",
            "1.107391132278676e-08\n",
            "4.429443017700633e-09\n",
            "1.7717318128319207e-09\n",
            "7.08663918514466e-10\n",
            "2.834564954698032e-10\n",
            "1.1339151090104999e-10\n",
            "4.536039225597808e-11\n",
            "total interation  27\n"
          ]
        }
      ],
      "source": [
        "initial_guess=np.ones(dim)\n",
        "b=np.ones_like(initial_guess)*100\n",
        "\n",
        "\n",
        "def Gauss_seidel_sparse_solver(A, b, x,epsilon):\n",
        "  initial_guess=x\n",
        "  epsilon=epsilon\n",
        "  x1=np.zeros_like(initial_guess)\n",
        "  m,n=np.shape(A)\n",
        "  cnt=0\n",
        "  while True:\n",
        "    i=0\n",
        "    cnt=cnt+1\n",
        "    while i<m:\n",
        "      sum=0\n",
        "      flag=int(A[i][0])\n",
        "      while True:\n",
        "        if i>=m or flag!=A[i][0]:\n",
        "          break\n",
        "        if A[i][0]!=A[i][1]:\n",
        "          sum=sum+A[i][2]*initial_guess[int(A[i][1])]\n",
        "          \n",
        "        else:\n",
        "          div=A[i][2]\n",
        "        i=i+1\n",
        "      \n",
        "      x1[int(flag)]=(b[int(flag)]-sum)/div\n",
        "\n",
        "    convergence=abs (np.linalg.norm(x1)-np.linalg.norm(initial_guess))/np.linalg.norm(x1)\n",
        "    initial_guess=x1.copy()\n",
        "    \n",
        "    print(convergence)\n",
        "\n",
        "    #break\n",
        "    if convergence<epsilon:\n",
        "      break\n",
        "    initial_guess=x1.copy()\n",
        "  \n",
        "  print('total interation ',cnt)\n",
        "  return x1\n",
        "\n",
        "x=Gauss_seidel_sparse_solver(A=new_matrix,b=b,x=initial_guess,epsilon=10**-10)"
      ]
    },
    {
      "cell_type": "code",
      "execution_count": 6,
      "metadata": {
        "colab": {
          "base_uri": "https://localhost:8080/"
        },
        "id": "lQ8VAhybSMZ7",
        "outputId": "967d82e2-009d-4026-ffdf-ad57cf2c5f70"
      },
      "outputs": [],
      "source": [
        "from numpy.linalg import solve\n",
        "X=solve(matrix,b)\n",
        "\n"
      ]
    },
    {
      "cell_type": "code",
      "execution_count": 11,
      "metadata": {
        "id": "ER8DPWj9dIhi"
      },
      "outputs": [
        {
          "data": {
            "text/plain": [
              "[<matplotlib.lines.Line2D at 0x7fb1b02f0a00>]"
            ]
          },
          "execution_count": 11,
          "metadata": {},
          "output_type": "execute_result"
        },
        {
          "data": {
            "image/png": "[encoded data removed]",
            "text/plain": [
              "<Figure size 1000x800 with 1 Axes>"
            ]
          },
          "metadata": {},
          "output_type": "display_data"
        }
      ],
      "source": [
        "import matplotlib.pyplot as plt\n",
        "plt.figure(figsize=(10,8))\n",
        "plt.plot(X)\n",
        "plt.plot(x)"
      ]
    },
    {
      "cell_type": "code",
      "execution_count": null,
      "metadata": {},
      "outputs": [],
      "source": []
    }
  ],
  "metadata": {
    "colab": {
      "provenance": []
    },
    "kernelspec": {
      "display_name": "Python 3",
      "name": "python3"
    },
    "language_info": {
      "codemirror_mode": {
        "name": "ipython",
        "version": 3
      },
      "file_extension": ".py",
      "mimetype": "text/x-python",
      "name": "python",
      "nbconvert_exporter": "python",
      "pygments_lexer": "ipython3",
      "version": "3.10.12"
    }
  },
  "nbformat": 4,
  "nbformat_minor": 0
}
